{
 "cells": [
  {
   "cell_type": "markdown",
   "metadata": {},
   "source": [
    "# Gesture Recognition\n",
    "In this group project, you are going to build a 3D Conv model that will be able to predict the 5 gestures correctly. Please import the following libraries to get started."
   ]
  },
  {
   "cell_type": "code",
   "execution_count": 1,
   "metadata": {},
   "outputs": [
    {
     "name": "stdout",
     "output_type": "stream",
     "text": [
      "Wed Dec 14 22:36:58 2022       \n",
      "+-----------------------------------------------------------------------------+\n",
      "| NVIDIA-SMI 527.56       Driver Version: 527.56       CUDA Version: 12.0     |\n",
      "|-------------------------------+----------------------+----------------------+\n",
      "| GPU  Name            TCC/WDDM | Bus-Id        Disp.A | Volatile Uncorr. ECC |\n",
      "| Fan  Temp  Perf  Pwr:Usage/Cap|         Memory-Usage | GPU-Util  Compute M. |\n",
      "|                               |                      |               MIG M. |\n",
      "|===============================+======================+======================|\n",
      "|   0  NVIDIA GeForce ... WDDM  | 00000000:01:00.0  On |                  N/A |\n",
      "| 49%   59C    P0    50W / 200W |   1003MiB /  8192MiB |      5%      Default |\n",
      "|                               |                      |                  N/A |\n",
      "+-------------------------------+----------------------+----------------------+\n",
      "                                                                               \n",
      "+-----------------------------------------------------------------------------+\n",
      "| Processes:                                                                  |\n",
      "|  GPU   GI   CI        PID   Type   Process name                  GPU Memory |\n",
      "|        ID   ID                                                   Usage      |\n",
      "|=============================================================================|\n",
      "|    0   N/A  N/A      4252    C+G   C:\\Windows\\explorer.exe         N/A      |\n",
      "|    0   N/A  N/A      9068    C+G   ...perience\\NVIDIA Share.exe    N/A      |\n",
      "|    0   N/A  N/A      9132    C+G   ...me\\Application\\chrome.exe    N/A      |\n",
      "|    0   N/A  N/A      9276    C+G   ...werToys.ColorPickerUI.exe    N/A      |\n",
      "|    0   N/A  N/A      9348    C+G   ...\\PowerToys.FancyZones.exe    N/A      |\n",
      "|    0   N/A  N/A      9532    C+G   ...werToys.PowerLauncher.exe    N/A      |\n",
      "|    0   N/A  N/A     10248    C+G   ...n1h2txyewy\\SearchHost.exe    N/A      |\n",
      "|    0   N/A  N/A     10340    C+G   ...artMenuExperienceHost.exe    N/A      |\n",
      "|    0   N/A  N/A     10488    C+G   ...nsoftware\\AMDRSSrcExt.exe    N/A      |\n",
      "|    0   N/A  N/A     10920    C+G   ...2txyewy\\TextInputHost.exe    N/A      |\n",
      "|    0   N/A  N/A     11420    C+G   ...lPanel\\SystemSettings.exe    N/A      |\n",
      "|    0   N/A  N/A     12028    C+G   ...ftware\\RadeonSoftware.exe    N/A      |\n",
      "|    0   N/A  N/A     12424    C+G   ...y\\ShellExperienceHost.exe    N/A      |\n",
      "|    0   N/A  N/A     12736    C+G   ...icrosoft VS Code\\Code.exe    N/A      |\n",
      "+-----------------------------------------------------------------------------+\n"
     ]
    }
   ],
   "source": [
    "!nvidia-smi"
   ]
  },
  {
   "cell_type": "code",
   "execution_count": 2,
   "metadata": {},
   "outputs": [],
   "source": [
    "import numpy as np\n",
    "import os\n",
    "from imageio.v2 import imread\n",
    "from PIL import Image, ImageFilter, ImageEnhance\n",
    "import datetime\n",
    "import os"
   ]
  },
  {
   "cell_type": "markdown",
   "metadata": {},
   "source": [
    "We set the random seed so that the results don't vary drastically."
   ]
  },
  {
   "cell_type": "code",
   "execution_count": 3,
   "metadata": {},
   "outputs": [],
   "source": [
    "np.random.seed(30)\n",
    "import random as rn\n",
    "rn.seed(30)\n",
    "import tensorflow as tf\n",
    "# tf.set_random_seed(30) # deprecated\n",
    "tf.random.set_seed(30)\n",
    "import cv2\n",
    "import matplotlib.pyplot as plt\n",
    "%matplotlib inline"
   ]
  },
  {
   "cell_type": "markdown",
   "metadata": {},
   "source": [
    "In this block, you read the folder names for training and validation. You also set the `batch_size` here. Note that you set the batch size in such a way that you are able to use the GPU in full capacity. You keep increasing the batch size until the machine throws an error."
   ]
  },
  {
   "cell_type": "code",
   "execution_count": 4,
   "metadata": {},
   "outputs": [],
   "source": [
    "project_folder='Project_data'"
   ]
  },
  {
   "attachments": {},
   "cell_type": "markdown",
   "metadata": {},
   "source": [
    "## Configration"
   ]
  },
  {
   "cell_type": "code",
   "execution_count": 5,
   "metadata": {},
   "outputs": [
    {
     "name": "stdout",
     "output_type": "stream",
     "text": [
      "# training sequences = 663\n",
      "# validation sequences = 100\n",
      "# epochs = 50\n"
     ]
    }
   ],
   "source": [
    "train_doc = np.random.permutation(open(f'{project_folder}/train.csv').readlines())\n",
    "val_doc = np.random.permutation(open(f'{project_folder}/val.csv').readlines())\n",
    "batch_size = 10 #experiment with the batch size\n",
    "image_count = 30 # number of images to be used for each video\n",
    "image_height=160\n",
    "image_width=160\n",
    "channels=3\n",
    "num_classes=5 # number of classes\n",
    "input_shape=(image_count,image_width,image_height,channels)\n",
    "curr_dt_time = datetime.datetime.now()\n",
    "train_path = f'{project_folder}/train'\n",
    "val_path = f'{project_folder}/val'\n",
    "num_train_sequences = len(train_doc)\n",
    "print('# training sequences =', num_train_sequences)\n",
    "num_val_sequences = len(val_doc)\n",
    "print('# validation sequences =', num_val_sequences)\n",
    "num_epochs = 50 # choose the number of epochs  \n",
    "print ('# epochs =', num_epochs)"
   ]
  },
  {
   "cell_type": "markdown",
   "metadata": {},
   "source": [
    "## Generator\n",
    "This is one of the most important part of the code. The overall structure of the generator has been given. In the generator, you are going to preprocess the images as you have images of 2 different dimensions as well as create a batch of video frames. You have to experiment with `img_idx`, `y`,`z` and normalization such that you get high accuracy."
   ]
  },
  {
   "cell_type": "code",
   "execution_count": 6,
   "metadata": {},
   "outputs": [],
   "source": [
    "def generator(source_path, folder_list, batch_size):\n",
    "    print( 'Source path = ', source_path, '; batch size =', batch_size)\n",
    "    img_idx =[x for x in range(0,image_count)]\n",
    "    while True:\n",
    "        t = np.random.permutation(folder_list)\n",
    "        num_batches = len(t)//batch_size    # calculate the number of batches\n",
    "        for batch in range(num_batches): # we iterate over the number of batches\n",
    "            batch_data = np.zeros((batch_size,image_count,image_width,image_height,channels)) # x is the number of images you use for each video, (y,z) is the final size of the input images and 3 is the number of channels RGB\n",
    "            batch_labels = np.zeros((batch_size,num_classes)) # batch_labels is the one hot representation of the output\n",
    "            for folder in range(batch_size): # iterate over the batch_size\n",
    "                imgs = os.listdir(source_path+'/'+ t[folder + (batch*batch_size)].split(';')[0]) # read all the images in the folder\n",
    "                for idx,item in enumerate(img_idx): #  Iterate iver the frames/images of a folder to read them in\n",
    "                    image = imread(source_path+'/'+ t[folder + (batch*batch_size)].strip().split(';')[0]+'/'+imgs[item]).astype(np.float32)\n",
    "                    \n",
    "                    #crop the images and resize them. Note that the images are of 2 different shape \n",
    "                    #and the conv3D will throw error if the inputs in a batch have different shapes\n",
    "                    \n",
    "                    temp = cv2.resize(image,(image_width,image_height))\n",
    "                    temp = temp/255 #Normalize data\n",
    "                    \n",
    "                    batch_data[folder,idx,:,:,0] = (temp[:,:,0])  #normalise and feed in the image\n",
    "                    batch_data[folder,idx,:,:,1] = (temp[:,:,1])  #normalise and feed in the image\n",
    "                    batch_data[folder,idx,:,:,2] = (temp[:,:,2])  #normalise and feed in the image\n",
    "                    \n",
    "                batch_labels[folder, int(t[folder + (batch*batch_size)].strip().split(';')[2])] = 1\n",
    "            yield batch_data, batch_labels #you yield the batch_data and the batch_labels, remember what does yield do\n",
    "\n",
    "        \n",
    "        # write the code for the remaining data points which are left after full batches\n",
    "        if (len(folder_list) != batch_size*num_batches):\n",
    "            print(\"Batch: \",num_batches+1,\"Index:\", batch_size)\n",
    "            batch_size = len(folder_list) - (batch_size*num_batches)\n",
    "            batch_data = np.zeros((batch_size,image_count,image_width,image_height,channels)) # x is the number of images you use for each video, (y,z) is the final size of the input images and 3 is the number of channels RGB\n",
    "            batch_labels = np.zeros((batch_size,num_classes)) # batch_labels is the one hot representation of the output\n",
    "            for folder in range(batch_size): # iterate over the batch_size\n",
    "                imgs = os.listdir(source_path+'/'+ t[folder + (batch*batch_size)].split(';')[0]) # read all the images in the folder\n",
    "                for idx,item in enumerate(img_idx): #  Iterate iver the frames/images of a folder to read them in\n",
    "                    image = imread(source_path+'/'+ t[folder + (batch*batch_size)].strip().split(';')[0]+'/'+imgs[item]).astype(np.float32)\n",
    "                    \n",
    "                    #crop the images and resize them. Note that the images are of 2 different shape \n",
    "                    #and the conv3D will throw error if the inputs in a batch have different shapes\n",
    "                    temp = cv2.resize(image,(image_width,image_height))\n",
    "                    temp = temp/255 #Normalize data\n",
    "                    \n",
    "                    batch_data[folder,idx,:,:,0] = (temp[:,:,0])\n",
    "                    batch_data[folder,idx,:,:,1] = (temp[:,:,1])\n",
    "                    batch_data[folder,idx,:,:,2] = (temp[:,:,2])\n",
    "                   \n",
    "                batch_labels[folder, int(t[folder + (batch*batch_size)].strip().split(';')[2])] = 1\n",
    "            yield batch_data, batch_labels"
   ]
  },
  {
   "cell_type": "markdown",
   "metadata": {},
   "source": [
    "Note here that a video is represented above in the generator as (number of images, height, width, number of channels). Take this into consideration while creating the model architecture."
   ]
  },
  {
   "cell_type": "markdown",
   "metadata": {},
   "source": [
    "## Model\n",
    "Here you make the model using different functionalities that Keras provides. Remember to use `Conv3D` and `MaxPooling3D` and not `Conv2D` and `Maxpooling2D` for a 3D convolution model. You would want to use `TimeDistributed` while building a Conv2D + RNN model. Also remember that the last layer is the softmax. Design the network in such a way that the model is able to give good accuracy on the least number of parameters so that it can fit in the memory of the webcam."
   ]
  },
  {
   "cell_type": "code",
   "execution_count": 7,
   "metadata": {},
   "outputs": [],
   "source": [
    "from keras.models import Sequential, Model\n",
    "from keras.layers import Dense, GRU, Flatten, TimeDistributed, Flatten, BatchNormalization, Activation,Dropout,GlobalAveragePooling3D,GRU,GlobalAveragePooling2D,LSTM,MaxPool2D,ConvLSTM2D,GlobalAveragePooling1D\n",
    "from keras.layers.convolutional import Conv3D, MaxPooling3D,Conv2D, MaxPooling2D\n",
    "from keras.callbacks import ModelCheckpoint, ReduceLROnPlateau\n",
    "from keras import optimizers\n",
    "from keras.applications import MobileNet"
   ]
  },
  {
   "attachments": {},
   "cell_type": "markdown",
   "metadata": {},
   "source": [
    "### First / Second Experiment"
   ]
  },
  {
   "cell_type": "code",
   "execution_count": 8,
   "metadata": {},
   "outputs": [],
   "source": [
    "# model = Sequential()\n",
    "# model.add(Conv3D(16, (3, 3, 3), padding='same',\n",
    "#           input_shape=input_shape))\n",
    "# model.add(Activation('relu'))\n",
    "# model.add(MaxPooling3D(pool_size=(2, 2, 2)))\n",
    "\n",
    "# model.add(Conv3D(32, (2, 2, 2), padding='same'))\n",
    "# model.add(Activation('relu'))\n",
    "# model.add(MaxPooling3D(pool_size=(2, 2, 2)))\n",
    "\n",
    "# model.add(Conv3D(64, (2, 2, 2), padding='same'))\n",
    "# model.add(Activation('relu'))\n",
    "# model.add(MaxPooling3D(pool_size=(2, 2, 2)))\n",
    "\n",
    "# model.add(Conv3D(128, (2, 2, 2), padding='same'))\n",
    "# model.add(Activation('relu'))\n",
    "# model.add(MaxPooling3D(pool_size=(2, 2, 2)))\n",
    "\n",
    "# model.add(Flatten())\n",
    "# model.add(Dense(128,activation='relu'))\n",
    "# model.add(Dense(64,activation='relu'))\n",
    "\n",
    "# model.add(Dense(num_classes,activation='softmax'))"
   ]
  },
  {
   "attachments": {},
   "cell_type": "markdown",
   "metadata": {},
   "source": [
    "### Third / Fourth Experiment"
   ]
  },
  {
   "cell_type": "code",
   "execution_count": 9,
   "metadata": {},
   "outputs": [],
   "source": [
    "# model = Sequential()\n",
    "# model.add(Conv3D(16, (3, 3, 3), padding='same',\n",
    "#           input_shape=input_shape))\n",
    "# model.add(Activation('relu'))\n",
    "# model.add(BatchNormalization())\n",
    "# model.add(MaxPooling3D(pool_size=(2, 2, 2)))\n",
    "\n",
    "# model.add(Conv3D(32, (2, 2, 2), padding='same'))\n",
    "# model.add(Activation('relu'))\n",
    "# model.add(MaxPooling3D(pool_size=(2, 2, 2)))\n",
    "# model.add(BatchNormalization())\n",
    "\n",
    "# model.add(Conv3D(64, (7, 7, 7), padding='same'))\n",
    "# model.add(Activation('relu'))\n",
    "# model.add(MaxPooling3D(pool_size=(2, 2, 2)))\n",
    "\n",
    "# model.add(Conv3D(128, (2, 2, 2), padding='same'))\n",
    "# model.add(Activation('relu'))\n",
    "\n",
    "# model.add(MaxPooling3D(pool_size=(2, 2, 2)))\n",
    "\n",
    "# model.add(Flatten())\n",
    "# model.add(Dense(128,activation='relu'))\n",
    "# model.add(Dense(64,activation='relu'))\n",
    "\n",
    "# model.add(Dense(num_classes,activation='softmax'))"
   ]
  },
  {
   "attachments": {},
   "cell_type": "markdown",
   "metadata": {},
   "source": [
    "### Fifth Experiment"
   ]
  },
  {
   "cell_type": "code",
   "execution_count": 10,
   "metadata": {},
   "outputs": [],
   "source": [
    "# model = Sequential()\n",
    "# model.add(Conv3D(16, (3, 3, 3), padding='same',\n",
    "#           input_shape=input_shape))\n",
    "# model.add(Activation('relu'))\n",
    "# model.add(BatchNormalization())\n",
    "# model.add(MaxPooling3D(pool_size=(2, 2, 2)))\n",
    "\n",
    "# model.add(Conv3D(32, (2, 2, 2), padding='same'))\n",
    "# model.add(Activation('relu'))\n",
    "# model.add(Dropout(0.25))\n",
    "# model.add(MaxPooling3D(pool_size=(2, 2, 2)))\n",
    "# model.add(BatchNormalization())\n",
    "\n",
    "# model.add(Conv3D(64, (7, 7, 7), padding='same'))\n",
    "# model.add(Activation('relu'))\n",
    "# model.add(Dropout(0.25))\n",
    "# model.add(MaxPooling3D(pool_size=(2, 2, 2)))\n",
    "\n",
    "# model.add(Conv3D(128, (2, 2, 2), padding='same'))\n",
    "# model.add(Activation('relu'))\n",
    "\n",
    "# model.add(MaxPooling3D(pool_size=(2, 2, 2)))\n",
    "\n",
    "# model.add(Flatten())\n",
    "# model.add(Dense(128,activation='relu'))\n",
    "# model.add(Dense(64,activation='relu'))\n",
    "\n",
    "# model.add(Dense(num_classes,activation='softmax'))"
   ]
  },
  {
   "attachments": {},
   "cell_type": "markdown",
   "metadata": {},
   "source": [
    "### Sixth Experiment"
   ]
  },
  {
   "cell_type": "code",
   "execution_count": 11,
   "metadata": {},
   "outputs": [],
   "source": [
    "# model = Sequential()\n",
    "# model.add(Conv3D(32, (3, 2, 3), padding='same',\n",
    "#           input_shape=input_shape))\n",
    "# model.add(Activation('relu'))\n",
    "# model.add(BatchNormalization())\n",
    "# model.add(MaxPooling3D(pool_size=(2, 2, 2)))\n",
    "\n",
    "# model.add(Conv3D(64, (2, 3, 2), padding='same'))\n",
    "# model.add(Activation('relu'))\n",
    "# model.add(Dropout(0.15))\n",
    "# model.add(MaxPooling3D(pool_size=(2, 2, 2)))\n",
    "# model.add(BatchNormalization())\n",
    "\n",
    "# model.add(Conv3D(64, (7, 1, 7), padding='same'))\n",
    "# model.add(Activation('relu'))\n",
    "# model.add(MaxPooling3D(pool_size=(2, 2, 2)))\n",
    "\n",
    "# model.add(Conv3D(128, (2, 2, 2), padding='same'))\n",
    "# model.add(Activation('relu'))\n",
    "# model.add(Dropout(0.15))\n",
    "# model.add(MaxPooling3D(pool_size=(2, 2, 2)))\n",
    "\n",
    "# model.add(Flatten())\n",
    "# model.add(Dense(128,activation='relu'))\n",
    "# model.add(Dense(64,activation='relu'))\n",
    "# model.add(Dense(num_classes,activation='softmax'))"
   ]
  },
  {
   "attachments": {},
   "cell_type": "markdown",
   "metadata": {},
   "source": [
    "### Seventh Experiment"
   ]
  },
  {
   "cell_type": "code",
   "execution_count": 12,
   "metadata": {},
   "outputs": [],
   "source": [
    "# model = Sequential()\n",
    "# model.add(Conv3D(32, (3, 3, 3), padding='same',\n",
    "#           input_shape=input_shape))\n",
    "# model.add(Activation('relu'))\n",
    "# model.add(BatchNormalization())\n",
    "# model.add(MaxPooling3D(pool_size=(2, 2, 2)))\n",
    "\n",
    "# model.add(Conv3D(64, (2, 2, 2), padding='same'))\n",
    "# model.add(Activation('relu'))\n",
    "# model.add(Dropout(0.15))\n",
    "# model.add(MaxPooling3D(pool_size=(2, 2, 2)))\n",
    "# model.add(BatchNormalization())\n",
    "\n",
    "# model.add(Conv3D(64, (7, 7, 7), padding='same'))\n",
    "# model.add(Activation('relu'))\n",
    "# model.add(MaxPooling3D(pool_size=(2, 2, 2)))\n",
    "\n",
    "# model.add(Conv3D(128, (2, 2, 2), padding='same'))\n",
    "# model.add(Activation('relu'))\n",
    "# model.add(Dropout(0.15))\n",
    "# model.add(MaxPooling3D(pool_size=(2, 2, 2)))\n",
    "\n",
    "# model.add(GlobalAveragePooling3D())\n",
    "# model.add(Dense(512,activation='relu'))\n",
    "# model.add(Dense(256,activation='relu'))\n",
    "# model.add(Dense(64,activation='relu'))\n",
    "# model.add(Dense(num_classes,activation='softmax'))"
   ]
  },
  {
   "attachments": {},
   "cell_type": "markdown",
   "metadata": {},
   "source": [
    "### Eighth Experiment"
   ]
  },
  {
   "cell_type": "code",
   "execution_count": 13,
   "metadata": {},
   "outputs": [],
   "source": [
    "# model = Sequential()\n",
    "# model.add(Conv3D(32, (3, 3, 3), padding='same',\n",
    "#           input_shape=input_shape))\n",
    "# model.add(Activation('relu'))\n",
    "# model.add(BatchNormalization())\n",
    "# model.add(MaxPooling3D(pool_size=(2, 2, 2)))\n",
    "\n",
    "# model.add(Conv3D(64, (2, 2, 2), padding='same'))\n",
    "# model.add(Activation('relu'))\n",
    "# model.add(Dropout(0.15))\n",
    "# model.add(MaxPooling3D(pool_size=(2, 2, 2)))\n",
    "# model.add(BatchNormalization())\n",
    "\n",
    "# model.add(Conv3D(64, (7, 7, 7), padding='same'))\n",
    "# model.add(Activation('relu'))\n",
    "# model.add(Conv3D(128, (2, 2, 2), padding='same'))\n",
    "# model.add(Activation('relu'))\n",
    "# model.add(Dropout(0.15))\n",
    "# model.add(MaxPooling3D(pool_size=(2, 2, 2)))\n",
    "\n",
    "# model.add(GlobalAveragePooling3D())\n",
    "# model.add(Dense(512,activation='relu'))\n",
    "# model.add(Dense(256,activation='relu'))\n",
    "# model.add(Dense(64,activation='relu'))\n",
    "# model.add(Dense(num_classes,activation='softmax'))"
   ]
  },
  {
   "attachments": {},
   "cell_type": "markdown",
   "metadata": {},
   "source": [
    "### Nineth Experiment"
   ]
  },
  {
   "cell_type": "code",
   "execution_count": 14,
   "metadata": {},
   "outputs": [],
   "source": [
    "# model = Sequential()\n",
    "# model.add(TimeDistributed(\n",
    "#     Conv2D(32, (3,3), activation='relu'), input_shape=input_shape)\n",
    "# )\n",
    "# model.add(TimeDistributed(\n",
    "#     MaxPooling2D((2,2)))\n",
    "# )\n",
    "# model.add(BatchNormalization())\n",
    "# model.add(Dropout(0.2))\n",
    "\n",
    "# model.add(TimeDistributed(\n",
    "#     Conv2D(64, (3,3), activation='relu'))\n",
    "# )\n",
    "# model.add(TimeDistributed(\n",
    "#     MaxPooling2D((2,2)))\n",
    "# )\n",
    "# model.add(BatchNormalization())\n",
    "# model.add(Dropout(0.2))\n",
    "\n",
    "# model.add(TimeDistributed(GlobalAveragePooling2D()))\n",
    "# model.add(TimeDistributed(Dense(64, activation='relu')))\n",
    "# model.add(BatchNormalization())\n",
    "# model.add(Dropout(0.2))\n",
    "\n",
    "# model.add(GRU(128))\n",
    "# model.add(BatchNormalization())\n",
    "# model.add(Dense(num_classes, activation='softmax'))"
   ]
  },
  {
   "attachments": {},
   "cell_type": "markdown",
   "metadata": {},
   "source": [
    "### Tenth Experiment"
   ]
  },
  {
   "cell_type": "code",
   "execution_count": 15,
   "metadata": {},
   "outputs": [],
   "source": [
    "# model = Sequential()\n",
    "# model.add(TimeDistributed(\n",
    "#     Conv2D(8, (3,3), activation='relu'), input_shape=input_shape)\n",
    "# )\n",
    "# model.add(BatchNormalization())\n",
    "# model.add(TimeDistributed(\n",
    "#     Conv2D(16, (3,3), activation='relu'))\n",
    "# )\n",
    "# model.add(BatchNormalization())\n",
    "# model.add(\n",
    "#     ConvLSTM2D(8, kernel_size = 3, return_sequences=False)\n",
    "# )\n",
    "# model.add(BatchNormalization())\n",
    "# model.add(TimeDistributed(\n",
    "#     Dense(64, activation='relu'))\n",
    "# )\n",
    "# model.add(BatchNormalization())\n",
    "# model.add(GlobalAveragePooling2D())\n",
    "# model.add(Dense(64, activation='relu'))\n",
    "# model.add(Dense(num_classes, activation='softmax'))"
   ]
  },
  {
   "attachments": {},
   "cell_type": "markdown",
   "metadata": {},
   "source": [
    "### Eleventh Experiment"
   ]
  },
  {
   "cell_type": "code",
   "execution_count": 16,
   "metadata": {},
   "outputs": [],
   "source": [
    "# model = Sequential()\n",
    "# model.add(TimeDistributed(\n",
    "#     Conv2D(8, (3,3), activation='relu'), input_shape=input_shape)\n",
    "# )\n",
    "# model.add(BatchNormalization())\n",
    "# model.add(TimeDistributed(\n",
    "#     Conv2D(16, (3,3), activation='relu'))\n",
    "# )\n",
    "# model.add(BatchNormalization())\n",
    "# model.add(\n",
    "#     ConvLSTM2D(8, kernel_size = 3, return_sequences=False)\n",
    "# )\n",
    "# model.add(BatchNormalization())\n",
    "# model.add(TimeDistributed(\n",
    "#     Dense(64, activation='relu'))\n",
    "# )\n",
    "# model.add(BatchNormalization())\n",
    "# model.add(GRU(64))\n",
    "# model.add(GlobalAveragePooling2D())\n",
    "# model.add(Dense(64, activation='relu'))\n",
    "# model.add(Dense(num_classes, activation='softmax'))"
   ]
  },
  {
   "attachments": {},
   "cell_type": "markdown",
   "metadata": {},
   "source": [
    "### Twelfth Experiment"
   ]
  },
  {
   "cell_type": "code",
   "execution_count": 17,
   "metadata": {},
   "outputs": [],
   "source": [
    "from keras.applications import ResNet152V2\n",
    "# EfficientNetB7 with rnn gru units\n",
    "model = Sequential()\n",
    "model.add(TimeDistributed(ResNet152V2(weights='imagenet', include_top=False),input_shape=input_shape, name='ResNet152V2', trainable=False))\n",
    "model.add(TimeDistributed(GlobalAveragePooling2D()))\n",
    "model.add(TimeDistributed(Dense(64, activation='relu')))\n",
    "model.add(Dense(256, activation='relu'))\n",
    "model.add(BatchNormalization())\n",
    "model.add(GRU(128, return_sequences=True))\n",
    "model.add(BatchNormalization())\n",
    "model.add(Flatten())\n",
    "model.add(Dense(256, activation='relu'))\n",
    "model.add(Dense(num_classes, activation='softmax'))"
   ]
  },
  {
   "cell_type": "markdown",
   "metadata": {},
   "source": [
    "Now that you have written the model, the next step is to `compile` the model. When you print the `summary` of the model, you'll see the total number of parameters you have to train."
   ]
  },
  {
   "cell_type": "code",
   "execution_count": 18,
   "metadata": {},
   "outputs": [],
   "source": [
    "train_generator = generator(train_path, train_doc, batch_size)\n",
    "val_generator = generator(val_path, val_doc, batch_size)"
   ]
  },
  {
   "cell_type": "code",
   "execution_count": 19,
   "metadata": {},
   "outputs": [
    {
     "name": "stdout",
     "output_type": "stream",
     "text": [
      "WARNING:tensorflow:`period` argument is deprecated. Please use `save_freq` to specify the frequency in number of batches seen.\n"
     ]
    }
   ],
   "source": [
    "model_name = 'model_init' + '_' + str(curr_dt_time).replace(' ','').replace(':','_') + '/'\n",
    "    \n",
    "if not os.path.exists(model_name):\n",
    "    os.mkdir(model_name)\n",
    "        \n",
    "filepath = model_name + 'model-{epoch:05d}-{loss:.5f}-{categorical_accuracy:.5f}-{val_loss:.5f}-{val_categorical_accuracy:.5f}.h5'\n",
    "\n",
    "checkpoint = ModelCheckpoint(filepath, monitor='val_loss', verbose=1, save_best_only=False, save_weights_only=False, mode='auto', period=1)\n",
    "\n",
    "LR = ReduceLROnPlateau(monitor='val_loss', factor=0.2, patience=5, verbose=1, mode='auto')\n",
    "callbacks_list = [checkpoint, LR]"
   ]
  },
  {
   "cell_type": "code",
   "execution_count": 20,
   "metadata": {
    "scrolled": true
   },
   "outputs": [
    {
     "name": "stdout",
     "output_type": "stream",
     "text": [
      "Model: \"sequential\"\n",
      "_________________________________________________________________\n",
      " Layer (type)                Output Shape              Param #   \n",
      "=================================================================\n",
      " ResNet152V2 (TimeDistribute  (None, 30, 5, 5, 2048)   58331648  \n",
      " d)                                                              \n",
      "                                                                 \n",
      " time_distributed (TimeDistr  (None, 30, 2048)         0         \n",
      " ibuted)                                                         \n",
      "                                                                 \n",
      " time_distributed_1 (TimeDis  (None, 30, 64)           131136    \n",
      " tributed)                                                       \n",
      "                                                                 \n",
      " dense_1 (Dense)             (None, 30, 256)           16640     \n",
      "                                                                 \n",
      " batch_normalization (BatchN  (None, 30, 256)          1024      \n",
      " ormalization)                                                   \n",
      "                                                                 \n",
      " gru (GRU)                   (None, 30, 128)           148224    \n",
      "                                                                 \n",
      " batch_normalization_1 (Batc  (None, 30, 128)          512       \n",
      " hNormalization)                                                 \n",
      "                                                                 \n",
      " flatten (Flatten)           (None, 3840)              0         \n",
      "                                                                 \n",
      " dense_2 (Dense)             (None, 256)               983296    \n",
      "                                                                 \n",
      " dense_3 (Dense)             (None, 5)                 1285      \n",
      "                                                                 \n",
      "=================================================================\n",
      "Total params: 59,613,765\n",
      "Trainable params: 1,281,349\n",
      "Non-trainable params: 58,332,416\n",
      "_________________________________________________________________\n",
      "None\n"
     ]
    }
   ],
   "source": [
    "optimiser = optimizers.Adam() #write your optimizer\n",
    "model.compile(optimizer=optimiser, loss='categorical_crossentropy', metrics=['categorical_accuracy'])\n",
    "print (model.summary())"
   ]
  },
  {
   "cell_type": "code",
   "execution_count": 21,
   "metadata": {},
   "outputs": [],
   "source": [
    "if (num_train_sequences%batch_size) == 0:\n",
    "    steps_per_epoch = int(num_train_sequences/batch_size)\n",
    "else:\n",
    "    steps_per_epoch = (num_train_sequences//batch_size) + 1\n",
    "\n",
    "if (num_val_sequences%batch_size) == 0:\n",
    "    validation_steps = int(num_val_sequences/batch_size)\n",
    "else:\n",
    "    validation_steps = (num_val_sequences//batch_size) + 1"
   ]
  },
  {
   "cell_type": "markdown",
   "metadata": {},
   "source": [
    "Let us now fit the model. This will start training the model and with the help of the checkpoints, you'll be able to save the model at the end of each epoch."
   ]
  },
  {
   "cell_type": "code",
   "execution_count": 22,
   "metadata": {},
   "outputs": [
    {
     "name": "stdout",
     "output_type": "stream",
     "text": [
      "Source path =  Project_data/train ; batch size = 10\n",
      "Epoch 1/50\n",
      "65/67 [============================>.] - ETA: 2s - loss: 2.8528 - categorical_accuracy: 0.4538Batch:  67 Index: 10\n",
      "67/67 [==============================] - ETA: 0s - loss: 2.8265 - categorical_accuracy: 0.4600Source path =  Project_data/val ; batch size = 10\n",
      "\n",
      "Epoch 1: saving model to model_init_2022-12-1422_37_00.899527\\model-00001-2.82650-0.46003-2.93086-0.41000.h5\n",
      "67/67 [==============================] - 108s 1s/step - loss: 2.8265 - categorical_accuracy: 0.4600 - val_loss: 2.9309 - val_categorical_accuracy: 0.4100 - lr: 0.0010\n",
      "Epoch 2/50\n",
      "67/67 [==============================] - ETA: 0s - loss: 3.0478 - categorical_accuracy: 0.5572\n",
      "Epoch 2: saving model to model_init_2022-12-1422_37_00.899527\\model-00002-3.04783-0.55721-4.62775-0.40000.h5\n",
      "67/67 [==============================] - 36s 534ms/step - loss: 3.0478 - categorical_accuracy: 0.5572 - val_loss: 4.6277 - val_categorical_accuracy: 0.4000 - lr: 0.0010\n",
      "Epoch 3/50\n",
      "67/67 [==============================] - ETA: 0s - loss: 3.3134 - categorical_accuracy: 0.5721\n",
      "Epoch 3: saving model to model_init_2022-12-1422_37_00.899527\\model-00003-3.31336-0.57214-8.30509-0.46000.h5\n",
      "67/67 [==============================] - 37s 561ms/step - loss: 3.3134 - categorical_accuracy: 0.5721 - val_loss: 8.3051 - val_categorical_accuracy: 0.4600 - lr: 0.0010\n",
      "Epoch 4/50\n",
      "67/67 [==============================] - ETA: 0s - loss: 3.3764 - categorical_accuracy: 0.5075\n",
      "Epoch 4: saving model to model_init_2022-12-1422_37_00.899527\\model-00004-3.37639-0.50746-3.79520-0.43000.h5\n",
      "67/67 [==============================] - 36s 539ms/step - loss: 3.3764 - categorical_accuracy: 0.5075 - val_loss: 3.7952 - val_categorical_accuracy: 0.4300 - lr: 0.0010\n",
      "Epoch 5/50\n",
      "67/67 [==============================] - ETA: 0s - loss: 1.1802 - categorical_accuracy: 0.7562\n",
      "Epoch 5: saving model to model_init_2022-12-1422_37_00.899527\\model-00005-1.18017-0.75622-2.54367-0.60000.h5\n",
      "67/67 [==============================] - 39s 578ms/step - loss: 1.1802 - categorical_accuracy: 0.7562 - val_loss: 2.5437 - val_categorical_accuracy: 0.6000 - lr: 0.0010\n",
      "Epoch 6/50\n",
      "67/67 [==============================] - ETA: 0s - loss: 0.8993 - categorical_accuracy: 0.7612\n",
      "Epoch 6: saving model to model_init_2022-12-1422_37_00.899527\\model-00006-0.89926-0.76119-2.56886-0.60000.h5\n",
      "67/67 [==============================] - 39s 586ms/step - loss: 0.8993 - categorical_accuracy: 0.7612 - val_loss: 2.5689 - val_categorical_accuracy: 0.6000 - lr: 0.0010\n",
      "Epoch 7/50\n",
      "67/67 [==============================] - ETA: 0s - loss: 1.3187 - categorical_accuracy: 0.6866\n",
      "Epoch 7: saving model to model_init_2022-12-1422_37_00.899527\\model-00007-1.31867-0.68657-4.49176-0.44000.h5\n",
      "67/67 [==============================] - 37s 551ms/step - loss: 1.3187 - categorical_accuracy: 0.6866 - val_loss: 4.4918 - val_categorical_accuracy: 0.4400 - lr: 0.0010\n",
      "Epoch 8/50\n",
      "67/67 [==============================] - ETA: 0s - loss: 0.7883 - categorical_accuracy: 0.8159\n",
      "Epoch 8: saving model to model_init_2022-12-1422_37_00.899527\\model-00008-0.78834-0.81592-2.35830-0.68000.h5\n",
      "67/67 [==============================] - 37s 554ms/step - loss: 0.7883 - categorical_accuracy: 0.8159 - val_loss: 2.3583 - val_categorical_accuracy: 0.6800 - lr: 0.0010\n",
      "Epoch 9/50\n",
      "67/67 [==============================] - ETA: 0s - loss: 1.0578 - categorical_accuracy: 0.7313\n",
      "Epoch 9: saving model to model_init_2022-12-1422_37_00.899527\\model-00009-1.05778-0.73134-4.09840-0.51000.h5\n",
      "67/67 [==============================] - 38s 567ms/step - loss: 1.0578 - categorical_accuracy: 0.7313 - val_loss: 4.0984 - val_categorical_accuracy: 0.5100 - lr: 0.0010\n",
      "Epoch 10/50\n",
      "67/67 [==============================] - ETA: 0s - loss: 0.9030 - categorical_accuracy: 0.7811\n",
      "Epoch 10: saving model to model_init_2022-12-1422_37_00.899527\\model-00010-0.90301-0.78109-3.77282-0.54000.h5\n",
      "67/67 [==============================] - 37s 560ms/step - loss: 0.9030 - categorical_accuracy: 0.7811 - val_loss: 3.7728 - val_categorical_accuracy: 0.5400 - lr: 0.0010\n",
      "Epoch 11/50\n",
      "67/67 [==============================] - ETA: 0s - loss: 0.8346 - categorical_accuracy: 0.7214\n",
      "Epoch 11: saving model to model_init_2022-12-1422_37_00.899527\\model-00011-0.83456-0.72139-1.82352-0.60000.h5\n",
      "67/67 [==============================] - 36s 546ms/step - loss: 0.8346 - categorical_accuracy: 0.7214 - val_loss: 1.8235 - val_categorical_accuracy: 0.6000 - lr: 0.0010\n",
      "Epoch 12/50\n",
      "67/67 [==============================] - ETA: 0s - loss: 0.4901 - categorical_accuracy: 0.8657\n",
      "Epoch 12: saving model to model_init_2022-12-1422_37_00.899527\\model-00012-0.49014-0.86567-1.86585-0.68000.h5\n",
      "67/67 [==============================] - 43s 646ms/step - loss: 0.4901 - categorical_accuracy: 0.8657 - val_loss: 1.8659 - val_categorical_accuracy: 0.6800 - lr: 0.0010\n",
      "Epoch 13/50\n",
      "67/67 [==============================] - ETA: 0s - loss: 0.7438 - categorical_accuracy: 0.8308\n",
      "Epoch 13: saving model to model_init_2022-12-1422_37_00.899527\\model-00013-0.74376-0.83085-1.49068-0.75000.h5\n",
      "67/67 [==============================] - 39s 579ms/step - loss: 0.7438 - categorical_accuracy: 0.8308 - val_loss: 1.4907 - val_categorical_accuracy: 0.7500 - lr: 0.0010\n",
      "Epoch 14/50\n",
      "67/67 [==============================] - ETA: 0s - loss: 0.8758 - categorical_accuracy: 0.7612\n",
      "Epoch 14: saving model to model_init_2022-12-1422_37_00.899527\\model-00014-0.87584-0.76119-0.96845-0.73000.h5\n",
      "67/67 [==============================] - 38s 571ms/step - loss: 0.8758 - categorical_accuracy: 0.7612 - val_loss: 0.9685 - val_categorical_accuracy: 0.7300 - lr: 0.0010\n",
      "Epoch 15/50\n",
      "67/67 [==============================] - ETA: 0s - loss: 0.6310 - categorical_accuracy: 0.8209\n",
      "Epoch 15: saving model to model_init_2022-12-1422_37_00.899527\\model-00015-0.63097-0.82090-1.61023-0.69000.h5\n",
      "67/67 [==============================] - 35s 522ms/step - loss: 0.6310 - categorical_accuracy: 0.8209 - val_loss: 1.6102 - val_categorical_accuracy: 0.6900 - lr: 0.0010\n",
      "Epoch 16/50\n",
      "67/67 [==============================] - ETA: 0s - loss: 0.6803 - categorical_accuracy: 0.8060\n",
      "Epoch 16: saving model to model_init_2022-12-1422_37_00.899527\\model-00016-0.68025-0.80597-2.17828-0.68000.h5\n",
      "67/67 [==============================] - 35s 524ms/step - loss: 0.6803 - categorical_accuracy: 0.8060 - val_loss: 2.1783 - val_categorical_accuracy: 0.6800 - lr: 0.0010\n",
      "Epoch 17/50\n",
      "67/67 [==============================] - ETA: 0s - loss: 0.6604 - categorical_accuracy: 0.8308\n",
      "Epoch 17: saving model to model_init_2022-12-1422_37_00.899527\\model-00017-0.66037-0.83085-1.67182-0.67000.h5\n",
      "67/67 [==============================] - 34s 508ms/step - loss: 0.6604 - categorical_accuracy: 0.8308 - val_loss: 1.6718 - val_categorical_accuracy: 0.6700 - lr: 0.0010\n",
      "Epoch 18/50\n",
      "67/67 [==============================] - ETA: 0s - loss: 0.4591 - categorical_accuracy: 0.8557\n",
      "Epoch 18: saving model to model_init_2022-12-1422_37_00.899527\\model-00018-0.45913-0.85572-1.37987-0.71000.h5\n",
      "67/67 [==============================] - 34s 514ms/step - loss: 0.4591 - categorical_accuracy: 0.8557 - val_loss: 1.3799 - val_categorical_accuracy: 0.7100 - lr: 0.0010\n",
      "Epoch 19/50\n",
      "67/67 [==============================] - ETA: 0s - loss: 0.4631 - categorical_accuracy: 0.8607\n",
      "Epoch 19: saving model to model_init_2022-12-1422_37_00.899527\\model-00019-0.46313-0.86070-1.21139-0.71000.h5\n",
      "\n",
      "Epoch 19: ReduceLROnPlateau reducing learning rate to 0.00020000000949949026.\n",
      "67/67 [==============================] - 34s 514ms/step - loss: 0.4631 - categorical_accuracy: 0.8607 - val_loss: 1.2114 - val_categorical_accuracy: 0.7100 - lr: 0.0010\n",
      "Epoch 20/50\n",
      "67/67 [==============================] - ETA: 0s - loss: 0.3112 - categorical_accuracy: 0.8905\n",
      "Epoch 20: saving model to model_init_2022-12-1422_37_00.899527\\model-00020-0.31121-0.89055-0.95178-0.80000.h5\n",
      "67/67 [==============================] - 34s 512ms/step - loss: 0.3112 - categorical_accuracy: 0.8905 - val_loss: 0.9518 - val_categorical_accuracy: 0.8000 - lr: 2.0000e-04\n",
      "Epoch 21/50\n",
      "67/67 [==============================] - ETA: 0s - loss: 0.2816 - categorical_accuracy: 0.8955\n",
      "Epoch 21: saving model to model_init_2022-12-1422_37_00.899527\\model-00021-0.28157-0.89552-0.81702-0.84000.h5\n",
      "67/67 [==============================] - 34s 512ms/step - loss: 0.2816 - categorical_accuracy: 0.8955 - val_loss: 0.8170 - val_categorical_accuracy: 0.8400 - lr: 2.0000e-04\n",
      "Epoch 22/50\n",
      "67/67 [==============================] - ETA: 0s - loss: 0.3919 - categorical_accuracy: 0.8856\n",
      "Epoch 22: saving model to model_init_2022-12-1422_37_00.899527\\model-00022-0.39187-0.88557-0.79036-0.80000.h5\n",
      "67/67 [==============================] - 34s 514ms/step - loss: 0.3919 - categorical_accuracy: 0.8856 - val_loss: 0.7904 - val_categorical_accuracy: 0.8000 - lr: 2.0000e-04\n",
      "Epoch 23/50\n",
      "67/67 [==============================] - ETA: 0s - loss: 0.3157 - categorical_accuracy: 0.9005\n",
      "Epoch 23: saving model to model_init_2022-12-1422_37_00.899527\\model-00023-0.31569-0.90050-0.72731-0.82000.h5\n",
      "67/67 [==============================] - 34s 516ms/step - loss: 0.3157 - categorical_accuracy: 0.9005 - val_loss: 0.7273 - val_categorical_accuracy: 0.8200 - lr: 2.0000e-04\n",
      "Epoch 24/50\n",
      "67/67 [==============================] - ETA: 0s - loss: 0.2469 - categorical_accuracy: 0.9254\n",
      "Epoch 24: saving model to model_init_2022-12-1422_37_00.899527\\model-00024-0.24687-0.92537-0.82400-0.83000.h5\n",
      "67/67 [==============================] - 35s 518ms/step - loss: 0.2469 - categorical_accuracy: 0.9254 - val_loss: 0.8240 - val_categorical_accuracy: 0.8300 - lr: 2.0000e-04\n",
      "Epoch 25/50\n",
      "67/67 [==============================] - ETA: 0s - loss: 0.2916 - categorical_accuracy: 0.9104\n",
      "Epoch 25: saving model to model_init_2022-12-1422_37_00.899527\\model-00025-0.29156-0.91045-0.67467-0.81000.h5\n",
      "67/67 [==============================] - 35s 524ms/step - loss: 0.2916 - categorical_accuracy: 0.9104 - val_loss: 0.6747 - val_categorical_accuracy: 0.8100 - lr: 2.0000e-04\n",
      "Epoch 26/50\n",
      "67/67 [==============================] - ETA: 0s - loss: 0.2190 - categorical_accuracy: 0.9005\n",
      "Epoch 26: saving model to model_init_2022-12-1422_37_00.899527\\model-00026-0.21905-0.90050-0.95429-0.73000.h5\n",
      "67/67 [==============================] - 34s 516ms/step - loss: 0.2190 - categorical_accuracy: 0.9005 - val_loss: 0.9543 - val_categorical_accuracy: 0.7300 - lr: 2.0000e-04\n",
      "Epoch 27/50\n",
      "67/67 [==============================] - ETA: 0s - loss: 0.2382 - categorical_accuracy: 0.9254\n",
      "Epoch 27: saving model to model_init_2022-12-1422_37_00.899527\\model-00027-0.23822-0.92537-0.68490-0.85000.h5\n",
      "67/67 [==============================] - 35s 524ms/step - loss: 0.2382 - categorical_accuracy: 0.9254 - val_loss: 0.6849 - val_categorical_accuracy: 0.8500 - lr: 2.0000e-04\n",
      "Epoch 28/50\n",
      "67/67 [==============================] - ETA: 0s - loss: 0.1438 - categorical_accuracy: 0.9502\n",
      "Epoch 28: saving model to model_init_2022-12-1422_37_00.899527\\model-00028-0.14378-0.95025-0.83103-0.80000.h5\n",
      "67/67 [==============================] - 34s 512ms/step - loss: 0.1438 - categorical_accuracy: 0.9502 - val_loss: 0.8310 - val_categorical_accuracy: 0.8000 - lr: 2.0000e-04\n",
      "Epoch 29/50\n",
      "67/67 [==============================] - ETA: 0s - loss: 0.2550 - categorical_accuracy: 0.9055\n",
      "Epoch 29: saving model to model_init_2022-12-1422_37_00.899527\\model-00029-0.25505-0.90547-0.77735-0.80000.h5\n",
      "67/67 [==============================] - 35s 518ms/step - loss: 0.2550 - categorical_accuracy: 0.9055 - val_loss: 0.7774 - val_categorical_accuracy: 0.8000 - lr: 2.0000e-04\n",
      "Epoch 30/50\n",
      "67/67 [==============================] - ETA: 0s - loss: 0.1598 - categorical_accuracy: 0.9254\n",
      "Epoch 30: saving model to model_init_2022-12-1422_37_00.899527\\model-00030-0.15983-0.92537-0.73081-0.81000.h5\n",
      "\n",
      "Epoch 30: ReduceLROnPlateau reducing learning rate to 4.0000001899898055e-05.\n",
      "67/67 [==============================] - 34s 516ms/step - loss: 0.1598 - categorical_accuracy: 0.9254 - val_loss: 0.7308 - val_categorical_accuracy: 0.8100 - lr: 2.0000e-04\n",
      "Epoch 31/50\n",
      "67/67 [==============================] - ETA: 0s - loss: 0.2235 - categorical_accuracy: 0.9403\n",
      "Epoch 31: saving model to model_init_2022-12-1422_37_00.899527\\model-00031-0.22354-0.94030-0.86307-0.79000.h5\n",
      "67/67 [==============================] - 35s 521ms/step - loss: 0.2235 - categorical_accuracy: 0.9403 - val_loss: 0.8631 - val_categorical_accuracy: 0.7900 - lr: 4.0000e-05\n",
      "Epoch 32/50\n",
      "67/67 [==============================] - ETA: 0s - loss: 0.1135 - categorical_accuracy: 0.9652\n",
      "Epoch 32: saving model to model_init_2022-12-1422_37_00.899527\\model-00032-0.11351-0.96517-0.91004-0.78000.h5\n",
      "67/67 [==============================] - 35s 517ms/step - loss: 0.1135 - categorical_accuracy: 0.9652 - val_loss: 0.9100 - val_categorical_accuracy: 0.7800 - lr: 4.0000e-05\n",
      "Epoch 33/50\n",
      "67/67 [==============================] - ETA: 0s - loss: 0.1851 - categorical_accuracy: 0.9254\n",
      "Epoch 33: saving model to model_init_2022-12-1422_37_00.899527\\model-00033-0.18506-0.92537-0.72784-0.85000.h5\n",
      "67/67 [==============================] - 36s 534ms/step - loss: 0.1851 - categorical_accuracy: 0.9254 - val_loss: 0.7278 - val_categorical_accuracy: 0.8500 - lr: 4.0000e-05\n",
      "Epoch 34/50\n",
      "67/67 [==============================] - ETA: 0s - loss: 0.2410 - categorical_accuracy: 0.9204\n",
      "Epoch 34: saving model to model_init_2022-12-1422_37_00.899527\\model-00034-0.24097-0.92040-0.96610-0.80000.h5\n",
      "67/67 [==============================] - 35s 518ms/step - loss: 0.2410 - categorical_accuracy: 0.9204 - val_loss: 0.9661 - val_categorical_accuracy: 0.8000 - lr: 4.0000e-05\n",
      "Epoch 35/50\n",
      "67/67 [==============================] - ETA: 0s - loss: 0.1427 - categorical_accuracy: 0.9502\n",
      "Epoch 35: saving model to model_init_2022-12-1422_37_00.899527\\model-00035-0.14274-0.95025-0.76852-0.82000.h5\n",
      "\n",
      "Epoch 35: ReduceLROnPlateau reducing learning rate to 8.000000525498762e-06.\n",
      "67/67 [==============================] - 35s 520ms/step - loss: 0.1427 - categorical_accuracy: 0.9502 - val_loss: 0.7685 - val_categorical_accuracy: 0.8200 - lr: 4.0000e-05\n",
      "Epoch 36/50\n",
      "67/67 [==============================] - ETA: 0s - loss: 0.2133 - categorical_accuracy: 0.9204\n",
      "Epoch 36: saving model to model_init_2022-12-1422_37_00.899527\\model-00036-0.21332-0.92040-0.81915-0.80000.h5\n",
      "67/67 [==============================] - 34s 510ms/step - loss: 0.2133 - categorical_accuracy: 0.9204 - val_loss: 0.8191 - val_categorical_accuracy: 0.8000 - lr: 8.0000e-06\n",
      "Epoch 37/50\n",
      "67/67 [==============================] - ETA: 0s - loss: 0.1326 - categorical_accuracy: 0.9701\n",
      "Epoch 37: saving model to model_init_2022-12-1422_37_00.899527\\model-00037-0.13262-0.97015-0.79719-0.81000.h5\n",
      "67/67 [==============================] - 34s 515ms/step - loss: 0.1326 - categorical_accuracy: 0.9701 - val_loss: 0.7972 - val_categorical_accuracy: 0.8100 - lr: 8.0000e-06\n",
      "Epoch 38/50\n",
      "67/67 [==============================] - ETA: 0s - loss: 0.2072 - categorical_accuracy: 0.9353\n",
      "Epoch 38: saving model to model_init_2022-12-1422_37_00.899527\\model-00038-0.20724-0.93532-0.71690-0.82000.h5\n",
      "67/67 [==============================] - 34s 512ms/step - loss: 0.2072 - categorical_accuracy: 0.9353 - val_loss: 0.7169 - val_categorical_accuracy: 0.8200 - lr: 8.0000e-06\n",
      "Epoch 39/50\n",
      "67/67 [==============================] - ETA: 0s - loss: 0.1545 - categorical_accuracy: 0.9453\n",
      "Epoch 39: saving model to model_init_2022-12-1422_37_00.899527\\model-00039-0.15446-0.94527-0.81706-0.80000.h5\n",
      "67/67 [==============================] - 35s 523ms/step - loss: 0.1545 - categorical_accuracy: 0.9453 - val_loss: 0.8171 - val_categorical_accuracy: 0.8000 - lr: 8.0000e-06\n",
      "Epoch 40/50\n",
      "67/67 [==============================] - ETA: 0s - loss: 0.1298 - categorical_accuracy: 0.9552\n",
      "Epoch 40: saving model to model_init_2022-12-1422_37_00.899527\\model-00040-0.12980-0.95522-0.89434-0.81000.h5\n",
      "\n",
      "Epoch 40: ReduceLROnPlateau reducing learning rate to 1.6000001778593287e-06.\n",
      "67/67 [==============================] - 35s 517ms/step - loss: 0.1298 - categorical_accuracy: 0.9552 - val_loss: 0.8943 - val_categorical_accuracy: 0.8100 - lr: 8.0000e-06\n",
      "Epoch 41/50\n",
      "67/67 [==============================] - ETA: 0s - loss: 0.1311 - categorical_accuracy: 0.9602\n",
      "Epoch 41: saving model to model_init_2022-12-1422_37_00.899527\\model-00041-0.13107-0.96020-0.88546-0.82000.h5\n",
      "67/67 [==============================] - 34s 511ms/step - loss: 0.1311 - categorical_accuracy: 0.9602 - val_loss: 0.8855 - val_categorical_accuracy: 0.8200 - lr: 1.6000e-06\n",
      "Epoch 42/50\n",
      "67/67 [==============================] - ETA: 0s - loss: 0.0915 - categorical_accuracy: 0.9552\n",
      "Epoch 42: saving model to model_init_2022-12-1422_37_00.899527\\model-00042-0.09146-0.95522-0.94374-0.80000.h5\n",
      "67/67 [==============================] - 34s 516ms/step - loss: 0.0915 - categorical_accuracy: 0.9552 - val_loss: 0.9437 - val_categorical_accuracy: 0.8000 - lr: 1.6000e-06\n",
      "Epoch 43/50\n",
      "67/67 [==============================] - ETA: 0s - loss: 0.1929 - categorical_accuracy: 0.9453\n",
      "Epoch 43: saving model to model_init_2022-12-1422_37_00.899527\\model-00043-0.19290-0.94527-0.77505-0.80000.h5\n",
      "67/67 [==============================] - 34s 508ms/step - loss: 0.1929 - categorical_accuracy: 0.9453 - val_loss: 0.7750 - val_categorical_accuracy: 0.8000 - lr: 1.6000e-06\n",
      "Epoch 44/50\n",
      "67/67 [==============================] - ETA: 0s - loss: 0.1775 - categorical_accuracy: 0.9353\n",
      "Epoch 44: saving model to model_init_2022-12-1422_37_00.899527\\model-00044-0.17746-0.93532-0.78730-0.81000.h5\n",
      "67/67 [==============================] - 35s 520ms/step - loss: 0.1775 - categorical_accuracy: 0.9353 - val_loss: 0.7873 - val_categorical_accuracy: 0.8100 - lr: 1.6000e-06\n",
      "Epoch 45/50\n",
      "67/67 [==============================] - ETA: 0s - loss: 0.1976 - categorical_accuracy: 0.9353\n",
      "Epoch 45: saving model to model_init_2022-12-1422_37_00.899527\\model-00045-0.19765-0.93532-1.02695-0.76000.h5\n",
      "\n",
      "Epoch 45: ReduceLROnPlateau reducing learning rate to 3.200000264769187e-07.\n",
      "67/67 [==============================] - 36s 536ms/step - loss: 0.1976 - categorical_accuracy: 0.9353 - val_loss: 1.0269 - val_categorical_accuracy: 0.7600 - lr: 1.6000e-06\n",
      "Epoch 46/50\n",
      "67/67 [==============================] - ETA: 0s - loss: 0.1529 - categorical_accuracy: 0.9353\n",
      "Epoch 46: saving model to model_init_2022-12-1422_37_00.899527\\model-00046-0.15295-0.93532-0.65182-0.85000.h5\n",
      "67/67 [==============================] - 35s 518ms/step - loss: 0.1529 - categorical_accuracy: 0.9353 - val_loss: 0.6518 - val_categorical_accuracy: 0.8500 - lr: 3.2000e-07\n",
      "Epoch 47/50\n",
      "67/67 [==============================] - ETA: 0s - loss: 0.2460 - categorical_accuracy: 0.9204\n",
      "Epoch 47: saving model to model_init_2022-12-1422_37_00.899527\\model-00047-0.24596-0.92040-0.78587-0.83000.h5\n",
      "67/67 [==============================] - 34s 514ms/step - loss: 0.2460 - categorical_accuracy: 0.9204 - val_loss: 0.7859 - val_categorical_accuracy: 0.8300 - lr: 3.2000e-07\n",
      "Epoch 48/50\n",
      "67/67 [==============================] - ETA: 0s - loss: 0.1001 - categorical_accuracy: 0.9701\n",
      "Epoch 48: saving model to model_init_2022-12-1422_37_00.899527\\model-00048-0.10014-0.97015-0.86822-0.80000.h5\n",
      "67/67 [==============================] - 34s 511ms/step - loss: 0.1001 - categorical_accuracy: 0.9701 - val_loss: 0.8682 - val_categorical_accuracy: 0.8000 - lr: 3.2000e-07\n",
      "Epoch 49/50\n",
      "67/67 [==============================] - ETA: 0s - loss: 0.1744 - categorical_accuracy: 0.9403\n",
      "Epoch 49: saving model to model_init_2022-12-1422_37_00.899527\\model-00049-0.17443-0.94030-0.78798-0.81000.h5\n",
      "67/67 [==============================] - 34s 514ms/step - loss: 0.1744 - categorical_accuracy: 0.9403 - val_loss: 0.7880 - val_categorical_accuracy: 0.8100 - lr: 3.2000e-07\n",
      "Epoch 50/50\n",
      "67/67 [==============================] - ETA: 0s - loss: 0.1442 - categorical_accuracy: 0.9602\n",
      "Epoch 50: saving model to model_init_2022-12-1422_37_00.899527\\model-00050-0.14417-0.96020-0.84763-0.81000.h5\n",
      "67/67 [==============================] - 35s 523ms/step - loss: 0.1442 - categorical_accuracy: 0.9602 - val_loss: 0.8476 - val_categorical_accuracy: 0.8100 - lr: 3.2000e-07\n"
     ]
    }
   ],
   "source": [
    "# history = model.fit_generator(train_generator, steps_per_epoch=steps_per_epoch, epochs=num_epochs, verbose=1, \n",
    "#                     callbacks=callbacks_list, validation_data=val_generator, \n",
    "#                     validation_steps=validation_steps, class_weight=None, workers=4, initial_epoch=0,max_queue_size=20)\n",
    "\n",
    "# fit_generator is deprecated and will be removed in a future version. Using fit which supports generators.\n",
    "history=model.fit(train_generator, steps_per_epoch=steps_per_epoch, epochs=num_epochs, verbose=1,callbacks=callbacks_list,\n",
    "                  validation_data=val_generator, validation_steps=validation_steps, class_weight=None,\n",
    "                  workers=1, initial_epoch=0,max_queue_size=3000)"
   ]
  },
  {
   "cell_type": "code",
   "execution_count": 23,
   "metadata": {},
   "outputs": [
    {
     "data": {
      "text/plain": [
       "<Figure size 1000x1000 with 0 Axes>"
      ]
     },
     "metadata": {},
     "output_type": "display_data"
    },
    {
     "data": {
      "image/png": "[encoded data removed]",
      "text/plain": [
       "<Figure size 800x800 with 2 Axes>"
      ]
     },
     "metadata": {},
     "output_type": "display_data"
    }
   ],
   "source": [
    "plt.figure(figsize = (10,10))\n",
    "\n",
    "acc = history.history['categorical_accuracy']\n",
    "val_acc = history.history['val_categorical_accuracy']\n",
    "\n",
    "loss = history.history['loss']\n",
    "val_loss = history.history['val_loss']\n",
    "\n",
    "epochs_range = range(num_epochs)\n",
    "\n",
    "plt.figure(figsize=(8, 8))\n",
    "plt.subplot(1, 2, 1)\n",
    "plt.plot(epochs_range, acc, label='Training Accuracy')\n",
    "plt.plot(epochs_range, val_acc, label='Validation Accuracy')\n",
    "plt.legend(loc='lower right')\n",
    "plt.title('Training and Validation Accuracy')\n",
    "\n",
    "plt.subplot(1, 2, 2)\n",
    "plt.plot(epochs_range, loss, label='Training Loss')\n",
    "plt.plot(epochs_range, val_loss, label='Validation Loss')\n",
    "plt.legend(loc='upper right')\n",
    "plt.title('Training and Validation Loss')\n",
    "plt.show()"
   ]
  },
  {
   "attachments": {},
   "cell_type": "markdown",
   "metadata": {},
   "source": [
    "### Note: Saved running of the best model generated in the 8th experiment"
   ]
  },
  {
   "attachments": {},
   "cell_type": "markdown",
   "metadata": {},
   "source": [
    "### Loading best model and evaluating on validation data"
   ]
  },
  {
   "cell_type": "code",
   "execution_count": 24,
   "metadata": {},
   "outputs": [
    {
     "name": "stdout",
     "output_type": "stream",
     "text": [
      "Model: \"sequential\"\n",
      "_________________________________________________________________\n",
      " Layer (type)                Output Shape              Param #   \n",
      "=================================================================\n",
      " conv3d (Conv3D)             (None, 28, 158, 158, 32)  2624      \n",
      "                                                                 \n",
      " conv3d_1 (Conv3D)           (None, 26, 156, 156, 64)  55360     \n",
      "                                                                 \n",
      " max_pooling3d (MaxPooling3D  (None, 13, 78, 78, 64)   0         \n",
      " )                                                               \n",
      "                                                                 \n",
      " batch_normalization (BatchN  (None, 13, 78, 78, 64)   256       \n",
      " ormalization)                                                   \n",
      "                                                                 \n",
      " dropout (Dropout)           (None, 13, 78, 78, 64)    0         \n",
      "                                                                 \n",
      " conv3d_2 (Conv3D)           (None, 11, 76, 76, 128)   221312    \n",
      "                                                                 \n",
      " max_pooling3d_1 (MaxPooling  (None, 11, 38, 38, 128)  0         \n",
      " 3D)                                                             \n",
      "                                                                 \n",
      " batch_normalization_1 (Batc  (None, 11, 38, 38, 128)  512       \n",
      " hNormalization)                                                 \n",
      "                                                                 \n",
      " dropout_1 (Dropout)         (None, 11, 38, 38, 128)   0         \n",
      "                                                                 \n",
      " conv3d_3 (Conv3D)           (None, 11, 36, 36, 256)   295168    \n",
      "                                                                 \n",
      " max_pooling3d_2 (MaxPooling  (None, 11, 18, 18, 256)  0         \n",
      " 3D)                                                             \n",
      "                                                                 \n",
      " batch_normalization_2 (Batc  (None, 11, 18, 18, 256)  1024      \n",
      " hNormalization)                                                 \n",
      "                                                                 \n",
      " dropout_2 (Dropout)         (None, 11, 18, 18, 256)   0         \n",
      "                                                                 \n",
      " global_average_pooling3d (G  (None, 256)              0         \n",
      " lobalAveragePooling3D)                                          \n",
      "                                                                 \n",
      " dense (Dense)               (None, 512)               131584    \n",
      "                                                                 \n",
      " batch_normalization_3 (Batc  (None, 512)              2048      \n",
      " hNormalization)                                                 \n",
      "                                                                 \n",
      " dense_1 (Dense)             (None, 5)                 2565      \n",
      "                                                                 \n",
      "=================================================================\n",
      "Total params: 712,453\n",
      "Trainable params: 710,533\n",
      "Non-trainable params: 1,920\n",
      "_________________________________________________________________\n"
     ]
    }
   ],
   "source": [
    "from keras.models import load_model\n",
    " \n",
    "# load model\n",
    "model = load_model('model-00046-0.12084-0.96241-0.07147-1.00000.h5')\n",
    "# summarize model.\n",
    "model.summary()"
   ]
  },
  {
   "cell_type": "code",
   "execution_count": 27,
   "metadata": {},
   "outputs": [
    {
     "name": "stdout",
     "output_type": "stream",
     "text": [
      "100/100 [==============================] - 66s 663ms/step - loss: 0.0971 - categorical_accuracy: 0.9800\n",
      "evaluate categorical_accuracy: 98.00%\n"
     ]
    }
   ],
   "source": [
    "# Evaluate on Validation data\n",
    "scores = model.evaluate(val_generator, verbose=1, steps=validation_steps*10, max_queue_size=3000, workers=1, use_multiprocessing=False)\n",
    "print(\"%s%s: %.2f%%\" % (\"evaluate \",model.metrics_names[1], scores[1]*100))"
   ]
  }
 ],
 "metadata": {
  "kernelspec": {
   "display_name": "tf",
   "language": "python",
   "name": "python3"
  },
  "language_info": {
   "codemirror_mode": {
    "name": "ipython",
    "version": 3
   },
   "file_extension": ".py",
   "mimetype": "text/x-python",
   "name": "python",
   "nbconvert_exporter": "python",
   "pygments_lexer": "ipython3",
   "version": "3.9.15 (main, Nov 24 2022, 14:39:17) [MSC v.1916 64 bit (AMD64)]"
  },
  "vscode": {
   "interpreter": {
    "hash": "5b78c356f59ad4f4bb37d320e87edfdd6e4609350ddbfb799f14c15ad9db04c2"
   }
  }
 },
 "nbformat": 4,
 "nbformat_minor": 2
}
