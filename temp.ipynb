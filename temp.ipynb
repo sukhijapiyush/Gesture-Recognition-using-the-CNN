{
 "cells": [
  {
   "cell_type": "code",
   "execution_count": null,
   "metadata": {},
   "outputs": [],
   "source": []
  }
 ],
 "metadata": {
  "kernelspec": {
   "display_name": "Python 3.7.15 ('tf_gpu')",
   "language": "python",
   "name": "python3"
  },
  "language_info": {
   "name": "python",
   "version": "3.7.15"
  },
  "orig_nbformat": 4,
  "vscode": {
   "interpreter": {
    "hash": "67b66897162a054390f8992d7d4938fe4efba4c631d6239d7f2fad99d7cd2d09"
   }
  }
 },
 "nbformat": 4,
 "nbformat_minor": 2
}
